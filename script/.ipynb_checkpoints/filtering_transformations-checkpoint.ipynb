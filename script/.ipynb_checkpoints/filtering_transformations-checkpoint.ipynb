{
 "cells": [
  {
   "cell_type": "code",
   "execution_count": 2,
   "metadata": {},
   "outputs": [],
   "source": [
    "#This notebook is to undertand image filtering and transformations"
   ]
  },
  {
   "cell_type": "code",
   "execution_count": 3,
   "metadata": {},
   "outputs": [],
   "source": [
    "import numpy as np\n",
    "import matplotlib.pyplot as plt\n",
    "import cv2\n",
    "\n"
   ]
  },
  {
   "cell_type": "code",
   "execution_count": null,
   "metadata": {},
   "outputs": [],
   "source": [
    "\"\"\"def point_operation(img, K, L):\n",
    "    \"\"\"\n",
    "        Applies point operation to given greyscale image\n",
    "    \"\"\"\n",
    "    img = np.asarray(img, dtype = np.float)\n",
    "    img = img*K + L\n",
    "    #clip pixel values\n",
    "    img[img>255]=255\n",
    "    img[img<0]=0\n",
    "    return np.asarray(img, dtype= np.int)\n",
    "\n",
    "def main():\n",
    "    #read an image\n",
    "    img=cv2.imread()\n",
    "    \"\"\""
   ]
  },
  {
   "cell_type": "code",
   "execution_count": 4,
   "metadata": {},
   "outputs": [],
   "source": [
    "#loads and reads an image from path to file\n",
    "rose_dir = '../../computer_vision/images/rose'\n",
    "\n",
    "img = cv2.imread(rose_dir+'/rose1.jpg')"
   ]
  },
  {
   "cell_type": "code",
   "execution_count": 8,
   "metadata": {},
   "outputs": [
    {
     "data": {
      "text/plain": [
       "-1"
      ]
     },
     "execution_count": 8,
     "metadata": {},
     "output_type": "execute_result"
    }
   ],
   "source": [
    "#displays the image above\n",
    "cv2.imshow(\"rose\",img)\n",
    "#keeps the window open until a key is pressed\n",
    "cv2.waitKey(0)\n",
    "#clears all window buffers\n",
    "cv2.destroyAllWindows()\n",
    "cv2.waitKey(1)"
   ]
  },
  {
   "cell_type": "code",
   "execution_count": 15,
   "metadata": {},
   "outputs": [],
   "source": [
    "#convert the color image to grayscale\n",
    "gray = cv2.cvtColor(img,cv2.COLOR_BGR2HLS)"
   ]
  },
  {
   "cell_type": "code",
   "execution_count": 16,
   "metadata": {},
   "outputs": [
    {
     "data": {
      "text/plain": [
       "-1"
      ]
     },
     "execution_count": 16,
     "metadata": {},
     "output_type": "execute_result"
    }
   ],
   "source": [
    "#displays the image above\n",
    "cv2.imshow(\"rose\",gray)\n",
    "#keeps the window open until a key is pressed\n",
    "cv2.waitKey(0)\n",
    "#clears all window buffers\n",
    "cv2.destroyAllWindows()\n",
    "cv2.waitKey(1)"
   ]
  },
  {
   "cell_type": "code",
   "execution_count": null,
   "metadata": {},
   "outputs": [],
   "source": []
  }
 ],
 "metadata": {
  "kernelspec": {
   "display_name": "Python 3",
   "language": "python",
   "name": "python3"
  },
  "language_info": {
   "codemirror_mode": {
    "name": "ipython",
    "version": 3
   },
   "file_extension": ".py",
   "mimetype": "text/x-python",
   "name": "python",
   "nbconvert_exporter": "python",
   "pygments_lexer": "ipython3",
   "version": "3.6.5"
  }
 },
 "nbformat": 4,
 "nbformat_minor": 2
}
