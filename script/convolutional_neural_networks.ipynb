{
 "cells": [
  {
   "cell_type": "code",
   "execution_count": 8,
   "metadata": {},
   "outputs": [],
   "source": [
    "import numpy as np\n",
    "from keras.layers import Conv2D, Input\n",
    "from keras.models import Model\n",
    "import tensorflow\n"
   ]
  },
  {
   "cell_type": "code",
   "execution_count": 9,
   "metadata": {},
   "outputs": [
    {
     "name": "stdout",
     "output_type": "stream",
     "text": [
      "_________________________________________________________________\n",
      "Layer (type)                 Output Shape              Param #   \n",
      "=================================================================\n",
      "input_1 (InputLayer)         (None, 512, 512, 3)       0         \n",
      "_________________________________________________________________\n",
      "conv2d_1 (Conv2D)            (None, 512, 512, 32)      2400      \n",
      "=================================================================\n",
      "Total params: 2,400\n",
      "Trainable params: 2,400\n",
      "Non-trainable params: 0\n",
      "_________________________________________________________________\n"
     ]
    }
   ],
   "source": [
    "def print_model():\n",
    "    \"\"\"\n",
    "    Creates a sample model and prints output shape\n",
    "    Use this to analyze convolution parameters\n",
    "    \"\"\"\n",
    "    #creat input with given shape\n",
    "    x= Input(shape=(512,512,3))\n",
    "    #create a convolution layer\n",
    "    y=Conv2D(filters = 32, \n",
    "             kernel_size=(5,5),\n",
    "             strides = 1,\n",
    "             padding = \"same\",\n",
    "             use_bias=False\n",
    "            )(x)\n",
    "    #create model\n",
    "    model = Model(inputs=x,outputs=y)\n",
    "    #prints out model created\n",
    "    model.summary()\n",
    "    \n",
    "print_model()"
   ]
  },
  {
   "cell_type": "code",
   "execution_count": null,
   "metadata": {},
   "outputs": [],
   "source": []
  }
 ],
 "metadata": {
  "kernelspec": {
   "display_name": "Python 3",
   "language": "python",
   "name": "python3"
  },
  "language_info": {
   "codemirror_mode": {
    "name": "ipython",
    "version": 3
   },
   "file_extension": ".py",
   "mimetype": "text/x-python",
   "name": "python",
   "nbconvert_exporter": "python",
   "pygments_lexer": "ipython3",
   "version": "3.6.5"
  }
 },
 "nbformat": 4,
 "nbformat_minor": 2
}
